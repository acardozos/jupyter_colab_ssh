{
 "cells": [
  {
   "cell_type": "code",
   "execution_count": null,
   "metadata": {},
   "outputs": [],
   "source": [
    "import pandas as pd\n",
    "import numpy as np\n",
    "data = pd.js"
   ]
  }
 ],
 "metadata": {
  "interpreter": {
   "hash": "726095db8c3cf172004fbb100bf568fac906d231bb29631590c66d3d71c033e9"
  },
  "kernelspec": {
   "display_name": "Python 3.9.12 ('django-prj')",
   "language": "python",
   "name": "python3"
  },
  "language_info": {
   "name": "python",
   "version": "3.9.12"
  },
  "orig_nbformat": 4
 },
 "nbformat": 4,
 "nbformat_minor": 2
}
